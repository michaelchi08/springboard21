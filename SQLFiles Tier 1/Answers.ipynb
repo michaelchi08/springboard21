{
 "cells": [
  {
   "cell_type": "code",
   "execution_count": 1,
   "metadata": {},
   "outputs": [],
   "source": [
    "import sqlite3\n",
    "from sqlite3 import Error\n",
    " "
   ]
  },
  {
   "cell_type": "code",
   "execution_count": 3,
   "metadata": {},
   "outputs": [],
   "source": [
    "\n",
    "conn = sqlite3.connect('sqlite_db_pythonsqlite.db')"
   ]
  },
  {
   "cell_type": "code",
   "execution_count": 5,
   "metadata": {},
   "outputs": [
    {
     "name": "stdout",
     "output_type": "stream",
     "text": [
      "(0, 'Tennis Court 1', 5, 25, 10000, 200)\n",
      "(1, 'Tennis Court 2', 5, 25, 8000, 200)\n",
      "(2, 'Badminton Court', 0, 15.5, 4000, 50)\n",
      "(3, 'Table Tennis', 0, 5, 320, 10)\n",
      "(4, 'Massage Room 1', 9.9, 80, 4000, 3000)\n",
      "(5, 'Massage Room 2', 9.9, 80, 4000, 3000)\n",
      "(6, 'Squash Court', 3.5, 17.5, 5000, 80)\n",
      "(7, 'Snooker Table', 0, 5, 450, 15)\n",
      "(8, 'Pool Table', 0, 5, 400, 15)\n"
     ]
    }
   ],
   "source": [
    "cur = conn.cursor()\n",
    "    \n",
    "query1 = \"\"\"\n",
    "    SELECT *\n",
    "    FROM FACILITIES\n",
    "    \"\"\"\n",
    "cur.execute(query1)\n",
    "\n",
    "rows = cur.fetchall()\n",
    "\n",
    "for row in rows:\n",
    "    print(row)"
   ]
  },
  {
   "cell_type": "code",
   "execution_count": 8,
   "metadata": {},
   "outputs": [
    {
     "name": "stdout",
     "output_type": "stream",
     "text": [
      "('Pool Table', 270)\n",
      "('Snooker Table', 240)\n",
      "('Table Tennis', 180)\n"
     ]
    }
   ],
   "source": [
    "\"\"\"\n",
    "Query all rows in the tasks table\n",
    ":param conn: the Connection object\n",
    ":return:\n",
    "\"\"\"\n",
    "cur = conn.cursor()\n",
    "\n",
    "query = \"\"\"\n",
    "WITH sub AS (\n",
    "SELECT *,\n",
    "    CASE \n",
    "        WHEN m.memid = 0 THEN f.guestcost * b.slots\n",
    "        ELSE f.membercost * b.slots \n",
    "    END AS booking_cost\n",
    "FROM Bookings AS b\n",
    "JOIN Facilities AS f\n",
    "ON b.facid = f.facid\n",
    "JOIN Members AS m\n",
    "ON b.memid = m.memid\n",
    ") \n",
    "SELECT name, SUM(booking_cost) AS revenue\n",
    "FROM sub\n",
    "GROUP BY name \n",
    "HAVING revenue < 1000\n",
    "ORDER BY revenue DESC\n",
    "\"\"\"\n",
    "cur.execute(query)\n",
    "\n",
    "rows = cur.fetchall()\n",
    "\n",
    "for row in rows:\n",
    "    print(row)\n"
   ]
  },
  {
   "cell_type": "code",
   "execution_count": 9,
   "metadata": {},
   "outputs": [
    {
     "name": "stdout",
     "output_type": "stream",
     "text": [
      "('Bader, Florence', 'Stibbons, Ponder')\n",
      "('Baker, Anne', 'Stibbons, Ponder')\n",
      "('Baker, Timothy', 'Farrell, Jemima')\n",
      "('Boothe, Tim', 'Rownam, Tim')\n",
      "('Butters, Gerald', 'Smith, Darren')\n",
      "('Coplin, Joan', 'Baker, Timothy')\n",
      "('Crumpet, Erica', 'Smith, Tracy')\n",
      "('Dare, Nancy', 'Joplette, Janice')\n",
      "('Genting, Matthew', 'Butters, Gerald')\n",
      "('Hunt, John', 'Purview, Millicent')\n",
      "('Jones, David', 'Joplette, Janice')\n",
      "('Jones, Douglas', 'Jones, David')\n",
      "('Joplette, Janice', 'Smith, Darren')\n",
      "('Mackenzie, Anna', 'Smith, Darren')\n",
      "('Owen, Charles', 'Smith, Darren')\n",
      "('Pinker, David', 'Farrell, Jemima')\n",
      "('Purview, Millicent', 'Smith, Tracy')\n",
      "('Rumney, Henrietta', 'Genting, Matthew')\n",
      "('Sarwin, Ramnaresh', 'Bader, Florence')\n",
      "('Smith, Jack', 'Smith, Darren')\n",
      "('Stibbons, Ponder', 'Tracy, Burton')\n",
      "('Worthington-Smyth, Henry', 'Smith, Tracy')\n"
     ]
    }
   ],
   "source": [
    "\"\"\"\n",
    "Query all rows in the tasks table\n",
    ":param conn: the Connection object\n",
    ":return:\n",
    "\"\"\"\n",
    "cur = conn.cursor()     \n",
    "\n",
    "query = \"\"\"\n",
    "SELECT  m1.surname || ', ' || m1.firstname AS recommended, m2.surname || ', ' || m2.firstname AS recommender\n",
    "FROM Members AS m1\n",
    "JOIN Members AS m2\n",
    "ON m1.recommendedby = m2.memid\n",
    "ORDER BY m1.surname, m1.firstname\n",
    "\"\"\"\n",
    "cur.execute(query)\n",
    "\n",
    "rows = cur.fetchall()\n",
    "\n",
    "for row in rows:\n",
    "    print(row)"
   ]
  },
  {
   "cell_type": "code",
   "execution_count": 10,
   "metadata": {},
   "outputs": [
    {
     "name": "stdout",
     "output_type": "stream",
     "text": [
      "('Badminton Court', 15.99)\n",
      "('Massage Room 1', 13.02)\n",
      "('Massage Room 2', 0.8)\n",
      "('Pool Table', 12.6)\n",
      "('Snooker Table', 12.66)\n",
      "('Squash Court', 6.16)\n",
      "('Table Tennis', 11.69)\n",
      "('Tennis Court 1', 14.09)\n",
      "('Tennis Court 2', 12.99)\n"
     ]
    }
   ],
   "source": [
    "\"\"\"\n",
    "Query all rows in the tasks table\n",
    ":param conn: the Connection object\n",
    ":return:\n",
    "\"\"\"\n",
    "cur = conn.cursor()\n",
    "\n",
    "query = \"\"\"\n",
    "SELECT f.name, \n",
    "ROUND(100.0 * SUM(slots)/\n",
    "(\n",
    "    SELECT SUM(slots)\n",
    "    FROM Bookings\n",
    "    WHERE memid != 0\n",
    "), 2) AS percentage_of_usage_by_members\n",
    "FROM Bookings as b\n",
    "LEFT JOIN Facilities as f\n",
    "ON b.facid = f.facid\n",
    "WHERE memid != 0\n",
    "GROUP BY f.name\n",
    "\"\"\"\n",
    "cur.execute(query)\n",
    "\n",
    "rows = cur.fetchall()\n",
    "\n",
    "for row in rows:\n",
    "    print(row)"
   ]
  }
 ],
 "metadata": {
  "interpreter": {
   "hash": "9039cb9dba6d376c78688aec135b3c4ab975872f2424ba63a6c8a88dd10bbb0e"
  },
  "kernelspec": {
   "display_name": "Python 3.6.13 64-bit ('sb': conda)",
   "language": "python",
   "name": "python3"
  },
  "language_info": {
   "codemirror_mode": {
    "name": "ipython",
    "version": 3
   },
   "file_extension": ".py",
   "mimetype": "text/x-python",
   "name": "python",
   "nbconvert_exporter": "python",
   "pygments_lexer": "ipython3",
   "version": "3.6.13"
  },
  "orig_nbformat": 4
 },
 "nbformat": 4,
 "nbformat_minor": 2
}
