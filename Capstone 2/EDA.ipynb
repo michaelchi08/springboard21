{
 "cells": [
  {
   "cell_type": "code",
   "execution_count": 268,
   "metadata": {},
   "outputs": [],
   "source": [
    "import pandas as pd\n",
    "import matplotlib.pyplot as plt\n",
    "import seaborn as sns\n",
    "\n",
    "telemetry = pd.read_csv('PdM_telemetry.csv')\n",
    "errors = pd.read_csv('PdM_errors.csv')\n",
    "maint = pd.read_csv('PdM_maint.csv')\n",
    "failures = pd.read_csv('PdM_failures.csv')\n",
    "machines = pd.read_csv('PdM_machines.csv')"
   ]
  },
  {
   "cell_type": "code",
   "execution_count": 269,
   "metadata": {},
   "outputs": [
    {
     "data": {
      "text/html": [
       "<div>\n",
       "<style scoped>\n",
       "    .dataframe tbody tr th:only-of-type {\n",
       "        vertical-align: middle;\n",
       "    }\n",
       "\n",
       "    .dataframe tbody tr th {\n",
       "        vertical-align: top;\n",
       "    }\n",
       "\n",
       "    .dataframe thead th {\n",
       "        text-align: right;\n",
       "    }\n",
       "</style>\n",
       "<table border=\"1\" class=\"dataframe\">\n",
       "  <thead>\n",
       "    <tr style=\"text-align: right;\">\n",
       "      <th></th>\n",
       "      <th>VarName</th>\n",
       "      <th>NullCount</th>\n",
       "    </tr>\n",
       "  </thead>\n",
       "  <tbody>\n",
       "  </tbody>\n",
       "</table>\n",
       "</div>"
      ],
      "text/plain": [
       "Empty DataFrame\n",
       "Columns: [VarName, NullCount]\n",
       "Index: []"
      ]
     },
     "execution_count": 269,
     "metadata": {},
     "output_type": "execute_result"
    }
   ],
   "source": [
    "na_df=pd.DataFrame(failures.isnull().sum().sort_values(ascending=False)).reset_index()\n",
    "na_df.columns = ['VarName', 'NullCount']\n",
    "na_df[(na_df['NullCount']>0)]"
   ]
  },
  {
   "cell_type": "code",
   "execution_count": 270,
   "metadata": {},
   "outputs": [
    {
     "data": {
      "text/html": [
       "<div>\n",
       "<style scoped>\n",
       "    .dataframe tbody tr th:only-of-type {\n",
       "        vertical-align: middle;\n",
       "    }\n",
       "\n",
       "    .dataframe tbody tr th {\n",
       "        vertical-align: top;\n",
       "    }\n",
       "\n",
       "    .dataframe thead th {\n",
       "        text-align: right;\n",
       "    }\n",
       "</style>\n",
       "<table border=\"1\" class=\"dataframe\">\n",
       "  <thead>\n",
       "    <tr style=\"text-align: right;\">\n",
       "      <th></th>\n",
       "      <th>VarName</th>\n",
       "      <th>NullCount</th>\n",
       "    </tr>\n",
       "  </thead>\n",
       "  <tbody>\n",
       "  </tbody>\n",
       "</table>\n",
       "</div>"
      ],
      "text/plain": [
       "Empty DataFrame\n",
       "Columns: [VarName, NullCount]\n",
       "Index: []"
      ]
     },
     "execution_count": 270,
     "metadata": {},
     "output_type": "execute_result"
    }
   ],
   "source": [
    "na_df=pd.DataFrame(errors.isnull().sum().sort_values(ascending=False)).reset_index()\n",
    "na_df.columns = ['VarName', 'NullCount']\n",
    "na_df[(na_df['NullCount']>0)]"
   ]
  },
  {
   "cell_type": "code",
   "execution_count": 271,
   "metadata": {},
   "outputs": [
    {
     "data": {
      "text/html": [
       "<div>\n",
       "<style scoped>\n",
       "    .dataframe tbody tr th:only-of-type {\n",
       "        vertical-align: middle;\n",
       "    }\n",
       "\n",
       "    .dataframe tbody tr th {\n",
       "        vertical-align: top;\n",
       "    }\n",
       "\n",
       "    .dataframe thead th {\n",
       "        text-align: right;\n",
       "    }\n",
       "</style>\n",
       "<table border=\"1\" class=\"dataframe\">\n",
       "  <thead>\n",
       "    <tr style=\"text-align: right;\">\n",
       "      <th></th>\n",
       "      <th>VarName</th>\n",
       "      <th>NullCount</th>\n",
       "    </tr>\n",
       "  </thead>\n",
       "  <tbody>\n",
       "  </tbody>\n",
       "</table>\n",
       "</div>"
      ],
      "text/plain": [
       "Empty DataFrame\n",
       "Columns: [VarName, NullCount]\n",
       "Index: []"
      ]
     },
     "execution_count": 271,
     "metadata": {},
     "output_type": "execute_result"
    }
   ],
   "source": [
    "na_df=pd.DataFrame(telemetry.isnull().sum().sort_values(ascending=False)).reset_index()\n",
    "na_df.columns = ['VarName', 'NullCount']\n",
    "na_df[(na_df['NullCount']>0)]"
   ]
  },
  {
   "cell_type": "code",
   "execution_count": 272,
   "metadata": {},
   "outputs": [
    {
     "data": {
      "text/html": [
       "<div>\n",
       "<style scoped>\n",
       "    .dataframe tbody tr th:only-of-type {\n",
       "        vertical-align: middle;\n",
       "    }\n",
       "\n",
       "    .dataframe tbody tr th {\n",
       "        vertical-align: top;\n",
       "    }\n",
       "\n",
       "    .dataframe thead th {\n",
       "        text-align: right;\n",
       "    }\n",
       "</style>\n",
       "<table border=\"1\" class=\"dataframe\">\n",
       "  <thead>\n",
       "    <tr style=\"text-align: right;\">\n",
       "      <th></th>\n",
       "      <th>VarName</th>\n",
       "      <th>NullCount</th>\n",
       "    </tr>\n",
       "  </thead>\n",
       "  <tbody>\n",
       "  </tbody>\n",
       "</table>\n",
       "</div>"
      ],
      "text/plain": [
       "Empty DataFrame\n",
       "Columns: [VarName, NullCount]\n",
       "Index: []"
      ]
     },
     "execution_count": 272,
     "metadata": {},
     "output_type": "execute_result"
    }
   ],
   "source": [
    "na_df=pd.DataFrame(maint.isnull().sum().sort_values(ascending=False)).reset_index()\n",
    "na_df.columns = ['VarName', 'NullCount']\n",
    "na_df[(na_df['NullCount']>0)]"
   ]
  },
  {
   "cell_type": "code",
   "execution_count": 55,
   "metadata": {},
   "outputs": [
    {
     "data": {
      "text/html": [
       "<div>\n",
       "<style scoped>\n",
       "    .dataframe tbody tr th:only-of-type {\n",
       "        vertical-align: middle;\n",
       "    }\n",
       "\n",
       "    .dataframe tbody tr th {\n",
       "        vertical-align: top;\n",
       "    }\n",
       "\n",
       "    .dataframe thead th {\n",
       "        text-align: right;\n",
       "    }\n",
       "</style>\n",
       "<table border=\"1\" class=\"dataframe\">\n",
       "  <thead>\n",
       "    <tr style=\"text-align: right;\">\n",
       "      <th></th>\n",
       "      <th>VarName</th>\n",
       "      <th>NullCount</th>\n",
       "    </tr>\n",
       "  </thead>\n",
       "  <tbody>\n",
       "  </tbody>\n",
       "</table>\n",
       "</div>"
      ],
      "text/plain": [
       "Empty DataFrame\n",
       "Columns: [VarName, NullCount]\n",
       "Index: []"
      ]
     },
     "execution_count": 55,
     "metadata": {},
     "output_type": "execute_result"
    }
   ],
   "source": [
    "na_df=pd.DataFrame(machines.isnull().sum().sort_values(ascending=False)).reset_index()\n",
    "na_df.columns = ['VarName', 'NullCount']\n",
    "na_df[(na_df['NullCount']>0)]"
   ]
  },
  {
   "cell_type": "code",
   "execution_count": 273,
   "metadata": {},
   "outputs": [
    {
     "data": {
      "text/plain": [
       "(761, 3)"
      ]
     },
     "execution_count": 273,
     "metadata": {},
     "output_type": "execute_result"
    }
   ],
   "source": [
    "failures.shape"
   ]
  },
  {
   "cell_type": "code",
   "execution_count": 274,
   "metadata": {},
   "outputs": [
    {
     "data": {
      "text/plain": [
       "(3919, 3)"
      ]
     },
     "execution_count": 274,
     "metadata": {},
     "output_type": "execute_result"
    }
   ],
   "source": [
    "errors.shape"
   ]
  },
  {
   "cell_type": "code",
   "execution_count": 275,
   "metadata": {},
   "outputs": [
    {
     "data": {
      "text/plain": [
       "(876100, 6)"
      ]
     },
     "execution_count": 275,
     "metadata": {},
     "output_type": "execute_result"
    }
   ],
   "source": [
    "telemetry.shape"
   ]
  },
  {
   "cell_type": "code",
   "execution_count": 276,
   "metadata": {},
   "outputs": [
    {
     "data": {
      "text/html": [
       "<div>\n",
       "<style scoped>\n",
       "    .dataframe tbody tr th:only-of-type {\n",
       "        vertical-align: middle;\n",
       "    }\n",
       "\n",
       "    .dataframe tbody tr th {\n",
       "        vertical-align: top;\n",
       "    }\n",
       "\n",
       "    .dataframe thead th {\n",
       "        text-align: right;\n",
       "    }\n",
       "</style>\n",
       "<table border=\"1\" class=\"dataframe\">\n",
       "  <thead>\n",
       "    <tr style=\"text-align: right;\">\n",
       "      <th></th>\n",
       "      <th>datetime</th>\n",
       "      <th>machineID</th>\n",
       "      <th>failure</th>\n",
       "    </tr>\n",
       "  </thead>\n",
       "  <tbody>\n",
       "    <tr>\n",
       "      <th>0</th>\n",
       "      <td>2015-01-05 06:00:00</td>\n",
       "      <td>1</td>\n",
       "      <td>comp4</td>\n",
       "    </tr>\n",
       "    <tr>\n",
       "      <th>1</th>\n",
       "      <td>2015-03-06 06:00:00</td>\n",
       "      <td>1</td>\n",
       "      <td>comp1</td>\n",
       "    </tr>\n",
       "    <tr>\n",
       "      <th>2</th>\n",
       "      <td>2015-04-20 06:00:00</td>\n",
       "      <td>1</td>\n",
       "      <td>comp2</td>\n",
       "    </tr>\n",
       "    <tr>\n",
       "      <th>3</th>\n",
       "      <td>2015-06-19 06:00:00</td>\n",
       "      <td>1</td>\n",
       "      <td>comp4</td>\n",
       "    </tr>\n",
       "    <tr>\n",
       "      <th>4</th>\n",
       "      <td>2015-09-02 06:00:00</td>\n",
       "      <td>1</td>\n",
       "      <td>comp4</td>\n",
       "    </tr>\n",
       "  </tbody>\n",
       "</table>\n",
       "</div>"
      ],
      "text/plain": [
       "              datetime  machineID failure\n",
       "0  2015-01-05 06:00:00          1   comp4\n",
       "1  2015-03-06 06:00:00          1   comp1\n",
       "2  2015-04-20 06:00:00          1   comp2\n",
       "3  2015-06-19 06:00:00          1   comp4\n",
       "4  2015-09-02 06:00:00          1   comp4"
      ]
     },
     "execution_count": 276,
     "metadata": {},
     "output_type": "execute_result"
    }
   ],
   "source": [
    "failures.head()"
   ]
  },
  {
   "cell_type": "code",
   "execution_count": 277,
   "metadata": {},
   "outputs": [
    {
     "data": {
      "text/html": [
       "<div>\n",
       "<style scoped>\n",
       "    .dataframe tbody tr th:only-of-type {\n",
       "        vertical-align: middle;\n",
       "    }\n",
       "\n",
       "    .dataframe tbody tr th {\n",
       "        vertical-align: top;\n",
       "    }\n",
       "\n",
       "    .dataframe thead th {\n",
       "        text-align: right;\n",
       "    }\n",
       "</style>\n",
       "<table border=\"1\" class=\"dataframe\">\n",
       "  <thead>\n",
       "    <tr style=\"text-align: right;\">\n",
       "      <th></th>\n",
       "      <th>machineID</th>\n",
       "      <th>failure</th>\n",
       "    </tr>\n",
       "    <tr>\n",
       "      <th>datetime</th>\n",
       "      <th></th>\n",
       "      <th></th>\n",
       "    </tr>\n",
       "  </thead>\n",
       "  <tbody>\n",
       "    <tr>\n",
       "      <th>2015-01-05 06:00:00</th>\n",
       "      <td>1</td>\n",
       "      <td>comp4</td>\n",
       "    </tr>\n",
       "    <tr>\n",
       "      <th>2015-03-06 06:00:00</th>\n",
       "      <td>1</td>\n",
       "      <td>comp1</td>\n",
       "    </tr>\n",
       "    <tr>\n",
       "      <th>2015-04-20 06:00:00</th>\n",
       "      <td>1</td>\n",
       "      <td>comp2</td>\n",
       "    </tr>\n",
       "    <tr>\n",
       "      <th>2015-06-19 06:00:00</th>\n",
       "      <td>1</td>\n",
       "      <td>comp4</td>\n",
       "    </tr>\n",
       "    <tr>\n",
       "      <th>2015-09-02 06:00:00</th>\n",
       "      <td>1</td>\n",
       "      <td>comp4</td>\n",
       "    </tr>\n",
       "  </tbody>\n",
       "</table>\n",
       "</div>"
      ],
      "text/plain": [
       "                     machineID failure\n",
       "datetime                              \n",
       "2015-01-05 06:00:00          1   comp4\n",
       "2015-03-06 06:00:00          1   comp1\n",
       "2015-04-20 06:00:00          1   comp2\n",
       "2015-06-19 06:00:00          1   comp4\n",
       "2015-09-02 06:00:00          1   comp4"
      ]
     },
     "execution_count": 277,
     "metadata": {},
     "output_type": "execute_result"
    }
   ],
   "source": [
    "failures = failures.set_index('datetime')\n",
    "failures.head()"
   ]
  },
  {
   "cell_type": "code",
   "execution_count": 278,
   "metadata": {},
   "outputs": [],
   "source": [
    "failures['datetime'] = pd.to_datetime(failures.index.values)"
   ]
  },
  {
   "cell_type": "code",
   "execution_count": 279,
   "metadata": {},
   "outputs": [],
   "source": [
    "failures.index = pd.to_datetime(failures.index.values)"
   ]
  },
  {
   "cell_type": "code",
   "execution_count": 280,
   "metadata": {},
   "outputs": [
    {
     "data": {
      "text/html": [
       "<div>\n",
       "<style scoped>\n",
       "    .dataframe tbody tr th:only-of-type {\n",
       "        vertical-align: middle;\n",
       "    }\n",
       "\n",
       "    .dataframe tbody tr th {\n",
       "        vertical-align: top;\n",
       "    }\n",
       "\n",
       "    .dataframe thead th {\n",
       "        text-align: right;\n",
       "    }\n",
       "</style>\n",
       "<table border=\"1\" class=\"dataframe\">\n",
       "  <thead>\n",
       "    <tr style=\"text-align: right;\">\n",
       "      <th></th>\n",
       "      <th>machineID</th>\n",
       "      <th>failure</th>\n",
       "      <th>datetime</th>\n",
       "    </tr>\n",
       "  </thead>\n",
       "  <tbody>\n",
       "    <tr>\n",
       "      <th>2015-01-05 06:00:00</th>\n",
       "      <td>1</td>\n",
       "      <td>comp4</td>\n",
       "      <td>2015-01-05 06:00:00</td>\n",
       "    </tr>\n",
       "    <tr>\n",
       "      <th>2015-03-06 06:00:00</th>\n",
       "      <td>1</td>\n",
       "      <td>comp1</td>\n",
       "      <td>2015-03-06 06:00:00</td>\n",
       "    </tr>\n",
       "    <tr>\n",
       "      <th>2015-04-20 06:00:00</th>\n",
       "      <td>1</td>\n",
       "      <td>comp2</td>\n",
       "      <td>2015-04-20 06:00:00</td>\n",
       "    </tr>\n",
       "    <tr>\n",
       "      <th>2015-06-19 06:00:00</th>\n",
       "      <td>1</td>\n",
       "      <td>comp4</td>\n",
       "      <td>2015-06-19 06:00:00</td>\n",
       "    </tr>\n",
       "    <tr>\n",
       "      <th>2015-09-02 06:00:00</th>\n",
       "      <td>1</td>\n",
       "      <td>comp4</td>\n",
       "      <td>2015-09-02 06:00:00</td>\n",
       "    </tr>\n",
       "  </tbody>\n",
       "</table>\n",
       "</div>"
      ],
      "text/plain": [
       "                     machineID failure            datetime\n",
       "2015-01-05 06:00:00          1   comp4 2015-01-05 06:00:00\n",
       "2015-03-06 06:00:00          1   comp1 2015-03-06 06:00:00\n",
       "2015-04-20 06:00:00          1   comp2 2015-04-20 06:00:00\n",
       "2015-06-19 06:00:00          1   comp4 2015-06-19 06:00:00\n",
       "2015-09-02 06:00:00          1   comp4 2015-09-02 06:00:00"
      ]
     },
     "execution_count": 280,
     "metadata": {},
     "output_type": "execute_result"
    }
   ],
   "source": [
    "failures.head()"
   ]
  },
  {
   "cell_type": "code",
   "execution_count": 281,
   "metadata": {},
   "outputs": [
    {
     "data": {
      "text/html": [
       "<div>\n",
       "<style scoped>\n",
       "    .dataframe tbody tr th:only-of-type {\n",
       "        vertical-align: middle;\n",
       "    }\n",
       "\n",
       "    .dataframe tbody tr th {\n",
       "        vertical-align: top;\n",
       "    }\n",
       "\n",
       "    .dataframe thead th {\n",
       "        text-align: right;\n",
       "    }\n",
       "</style>\n",
       "<table border=\"1\" class=\"dataframe\">\n",
       "  <thead>\n",
       "    <tr style=\"text-align: right;\">\n",
       "      <th></th>\n",
       "      <th>machineID</th>\n",
       "      <th>failure</th>\n",
       "      <th>datetime</th>\n",
       "      <th>weekday</th>\n",
       "    </tr>\n",
       "  </thead>\n",
       "  <tbody>\n",
       "    <tr>\n",
       "      <th>2015-01-05 06:00:00</th>\n",
       "      <td>1</td>\n",
       "      <td>comp4</td>\n",
       "      <td>2015-01-05 06:00:00</td>\n",
       "      <td>Mon</td>\n",
       "    </tr>\n",
       "    <tr>\n",
       "      <th>2015-03-06 06:00:00</th>\n",
       "      <td>1</td>\n",
       "      <td>comp1</td>\n",
       "      <td>2015-03-06 06:00:00</td>\n",
       "      <td>Fri</td>\n",
       "    </tr>\n",
       "    <tr>\n",
       "      <th>2015-04-20 06:00:00</th>\n",
       "      <td>1</td>\n",
       "      <td>comp2</td>\n",
       "      <td>2015-04-20 06:00:00</td>\n",
       "      <td>Mon</td>\n",
       "    </tr>\n",
       "    <tr>\n",
       "      <th>2015-06-19 06:00:00</th>\n",
       "      <td>1</td>\n",
       "      <td>comp4</td>\n",
       "      <td>2015-06-19 06:00:00</td>\n",
       "      <td>Fri</td>\n",
       "    </tr>\n",
       "    <tr>\n",
       "      <th>2015-09-02 06:00:00</th>\n",
       "      <td>1</td>\n",
       "      <td>comp4</td>\n",
       "      <td>2015-09-02 06:00:00</td>\n",
       "      <td>Wed</td>\n",
       "    </tr>\n",
       "  </tbody>\n",
       "</table>\n",
       "</div>"
      ],
      "text/plain": [
       "                     machineID failure            datetime weekday\n",
       "2015-01-05 06:00:00          1   comp4 2015-01-05 06:00:00     Mon\n",
       "2015-03-06 06:00:00          1   comp1 2015-03-06 06:00:00     Fri\n",
       "2015-04-20 06:00:00          1   comp2 2015-04-20 06:00:00     Mon\n",
       "2015-06-19 06:00:00          1   comp4 2015-06-19 06:00:00     Fri\n",
       "2015-09-02 06:00:00          1   comp4 2015-09-02 06:00:00     Wed"
      ]
     },
     "execution_count": 281,
     "metadata": {},
     "output_type": "execute_result"
    }
   ],
   "source": [
    "failures['weekday'] = failures['datetime'].dt.weekday.replace(dict(zip(range(7),'Mon Tue Wed Thu Fri Sat Sun'.split())))\n",
    "failures.head()"
   ]
  },
  {
   "cell_type": "code",
   "execution_count": 282,
   "metadata": {},
   "outputs": [
    {
     "data": {
      "text/html": [
       "<div>\n",
       "<style scoped>\n",
       "    .dataframe tbody tr th:only-of-type {\n",
       "        vertical-align: middle;\n",
       "    }\n",
       "\n",
       "    .dataframe tbody tr th {\n",
       "        vertical-align: top;\n",
       "    }\n",
       "\n",
       "    .dataframe thead th {\n",
       "        text-align: right;\n",
       "    }\n",
       "</style>\n",
       "<table border=\"1\" class=\"dataframe\">\n",
       "  <thead>\n",
       "    <tr style=\"text-align: right;\">\n",
       "      <th></th>\n",
       "      <th>machineID</th>\n",
       "      <th>failure</th>\n",
       "      <th>datetime</th>\n",
       "      <th>weekday_Fri</th>\n",
       "      <th>weekday_Mon</th>\n",
       "      <th>weekday_Sat</th>\n",
       "      <th>weekday_Sun</th>\n",
       "      <th>weekday_Thu</th>\n",
       "      <th>weekday_Tue</th>\n",
       "      <th>weekday_Wed</th>\n",
       "    </tr>\n",
       "  </thead>\n",
       "  <tbody>\n",
       "    <tr>\n",
       "      <th>2015-01-05 06:00:00</th>\n",
       "      <td>1</td>\n",
       "      <td>comp4</td>\n",
       "      <td>2015-01-05 06:00:00</td>\n",
       "      <td>0</td>\n",
       "      <td>1</td>\n",
       "      <td>0</td>\n",
       "      <td>0</td>\n",
       "      <td>0</td>\n",
       "      <td>0</td>\n",
       "      <td>0</td>\n",
       "    </tr>\n",
       "    <tr>\n",
       "      <th>2015-03-06 06:00:00</th>\n",
       "      <td>1</td>\n",
       "      <td>comp1</td>\n",
       "      <td>2015-03-06 06:00:00</td>\n",
       "      <td>1</td>\n",
       "      <td>0</td>\n",
       "      <td>0</td>\n",
       "      <td>0</td>\n",
       "      <td>0</td>\n",
       "      <td>0</td>\n",
       "      <td>0</td>\n",
       "    </tr>\n",
       "    <tr>\n",
       "      <th>2015-04-20 06:00:00</th>\n",
       "      <td>1</td>\n",
       "      <td>comp2</td>\n",
       "      <td>2015-04-20 06:00:00</td>\n",
       "      <td>0</td>\n",
       "      <td>1</td>\n",
       "      <td>0</td>\n",
       "      <td>0</td>\n",
       "      <td>0</td>\n",
       "      <td>0</td>\n",
       "      <td>0</td>\n",
       "    </tr>\n",
       "    <tr>\n",
       "      <th>2015-06-19 06:00:00</th>\n",
       "      <td>1</td>\n",
       "      <td>comp4</td>\n",
       "      <td>2015-06-19 06:00:00</td>\n",
       "      <td>1</td>\n",
       "      <td>0</td>\n",
       "      <td>0</td>\n",
       "      <td>0</td>\n",
       "      <td>0</td>\n",
       "      <td>0</td>\n",
       "      <td>0</td>\n",
       "    </tr>\n",
       "    <tr>\n",
       "      <th>2015-09-02 06:00:00</th>\n",
       "      <td>1</td>\n",
       "      <td>comp4</td>\n",
       "      <td>2015-09-02 06:00:00</td>\n",
       "      <td>0</td>\n",
       "      <td>0</td>\n",
       "      <td>0</td>\n",
       "      <td>0</td>\n",
       "      <td>0</td>\n",
       "      <td>0</td>\n",
       "      <td>1</td>\n",
       "    </tr>\n",
       "  </tbody>\n",
       "</table>\n",
       "</div>"
      ],
      "text/plain": [
       "                     machineID failure            datetime  weekday_Fri  \\\n",
       "2015-01-05 06:00:00          1   comp4 2015-01-05 06:00:00            0   \n",
       "2015-03-06 06:00:00          1   comp1 2015-03-06 06:00:00            1   \n",
       "2015-04-20 06:00:00          1   comp2 2015-04-20 06:00:00            0   \n",
       "2015-06-19 06:00:00          1   comp4 2015-06-19 06:00:00            1   \n",
       "2015-09-02 06:00:00          1   comp4 2015-09-02 06:00:00            0   \n",
       "\n",
       "                     weekday_Mon  weekday_Sat  weekday_Sun  weekday_Thu  \\\n",
       "2015-01-05 06:00:00            1            0            0            0   \n",
       "2015-03-06 06:00:00            0            0            0            0   \n",
       "2015-04-20 06:00:00            1            0            0            0   \n",
       "2015-06-19 06:00:00            0            0            0            0   \n",
       "2015-09-02 06:00:00            0            0            0            0   \n",
       "\n",
       "                     weekday_Tue  weekday_Wed  \n",
       "2015-01-05 06:00:00            0            0  \n",
       "2015-03-06 06:00:00            0            0  \n",
       "2015-04-20 06:00:00            0            0  \n",
       "2015-06-19 06:00:00            0            0  \n",
       "2015-09-02 06:00:00            0            1  "
      ]
     },
     "execution_count": 282,
     "metadata": {},
     "output_type": "execute_result"
    }
   ],
   "source": [
    "failures = pd.get_dummies(failures,columns=['weekday'])\n",
    "failures.head()\n"
   ]
  },
  {
   "cell_type": "code",
   "execution_count": 283,
   "metadata": {},
   "outputs": [
    {
     "name": "stdout",
     "output_type": "stream",
     "text": [
      "                     weekday_Fri  weekday_Mon  weekday_Sat  weekday_Sun  \\\n",
      "2015-01-05 06:00:00            0            1            0            0   \n",
      "2015-03-06 06:00:00            1            0            0            0   \n",
      "2015-04-20 06:00:00            0            1            0            0   \n",
      "2015-06-19 06:00:00            1            0            0            0   \n",
      "2015-09-02 06:00:00            0            0            0            0   \n",
      "2015-10-17 06:00:00            0            0            1            0   \n",
      "2015-12-16 06:00:00            0            0            0            0   \n",
      "2015-03-19 06:00:00            0            0            0            0   \n",
      "2015-03-19 06:00:00            0            0            0            0   \n",
      "2015-04-18 06:00:00            0            0            1            0   \n",
      "2015-12-29 06:00:00            0            0            0            0   \n",
      "2015-01-07 06:00:00            0            0            0            0   \n",
      "2015-02-06 06:00:00            1            0            0            0   \n",
      "2015-07-21 06:00:00            0            0            0            0   \n",
      "2015-10-04 06:00:00            0            0            0            1   \n",
      "2015-12-03 06:00:00            0            0            0            0   \n",
      "2015-01-17 06:00:00            0            0            1            0   \n",
      "2015-02-16 06:00:00            0            1            0            0   \n",
      "2015-04-02 06:00:00            0            0            0            0   \n",
      "2015-07-16 06:00:00            0            0            0            0   \n",
      "2015-08-30 06:00:00            0            0            0            1   \n",
      "2015-10-14 06:00:00            0            0            0            0   \n",
      "2015-01-09 06:00:00            1            0            0            0   \n",
      "2015-02-23 06:00:00            0            1            0            0   \n",
      "2015-04-09 06:00:00            0            0            0            0   \n",
      "2015-06-23 06:00:00            0            0            0            0   \n",
      "2015-09-06 06:00:00            0            0            0            1   \n",
      "2015-10-06 06:00:00            0            0            0            0   \n",
      "2015-11-20 06:00:00            1            0            0            0   \n",
      "2015-01-24 06:00:00            0            0            1            0   \n",
      "...                          ...          ...          ...          ...   \n",
      "2015-06-14 06:00:00            0            0            0            1   \n",
      "2015-06-29 06:00:00            0            1            0            0   \n",
      "2015-06-29 06:00:00            0            1            0            0   \n",
      "2015-07-29 06:00:00            0            0            0            0   \n",
      "2015-08-13 06:00:00            0            0            0            0   \n",
      "2015-08-28 06:00:00            1            0            0            0   \n",
      "2015-10-27 06:00:00            0            0            0            0   \n",
      "2015-11-26 06:00:00            0            0            0            0   \n",
      "2015-01-02 03:00:00            1            0            0            0   \n",
      "2015-01-18 06:00:00            0            0            0            1   \n",
      "2015-02-02 06:00:00            0            1            0            0   \n",
      "2015-02-17 06:00:00            0            0            0            0   \n",
      "2015-03-04 06:00:00            0            0            0            0   \n",
      "2015-03-19 06:00:00            0            0            0            0   \n",
      "2015-04-03 06:00:00            1            0            0            0   \n",
      "2015-04-18 06:00:00            0            0            1            0   \n",
      "2015-05-03 06:00:00            0            0            0            1   \n",
      "2015-05-18 06:00:00            0            1            0            0   \n",
      "2015-06-02 06:00:00            0            0            0            0   \n",
      "2015-07-02 06:00:00            0            0            0            0   \n",
      "2015-07-17 06:00:00            1            0            0            0   \n",
      "2015-08-01 06:00:00            0            0            1            0   \n",
      "2015-08-31 06:00:00            0            1            0            0   \n",
      "2015-10-15 06:00:00            0            0            0            0   \n",
      "2015-10-30 06:00:00            1            0            0            0   \n",
      "2015-11-29 06:00:00            0            0            0            1   \n",
      "2015-12-14 06:00:00            0            1            0            0   \n",
      "2015-02-12 06:00:00            0            0            0            0   \n",
      "2015-09-10 06:00:00            0            0            0            0   \n",
      "2015-12-09 06:00:00            0            0            0            0   \n",
      "\n",
      "                     weekday_Thu  weekday_Tue  weekday_Wed  \n",
      "2015-01-05 06:00:00            0            0            0  \n",
      "2015-03-06 06:00:00            0            0            0  \n",
      "2015-04-20 06:00:00            0            0            0  \n",
      "2015-06-19 06:00:00            0            0            0  \n",
      "2015-09-02 06:00:00            0            0            1  \n",
      "2015-10-17 06:00:00            0            0            0  \n",
      "2015-12-16 06:00:00            0            0            1  \n",
      "2015-03-19 06:00:00            1            0            0  \n",
      "2015-03-19 06:00:00            1            0            0  \n",
      "2015-04-18 06:00:00            0            0            0  \n",
      "2015-12-29 06:00:00            0            1            0  \n",
      "2015-01-07 06:00:00            0            0            1  \n",
      "2015-02-06 06:00:00            0            0            0  \n",
      "2015-07-21 06:00:00            0            1            0  \n",
      "2015-10-04 06:00:00            0            0            0  \n",
      "2015-12-03 06:00:00            1            0            0  \n",
      "2015-01-17 06:00:00            0            0            0  \n",
      "2015-02-16 06:00:00            0            0            0  \n",
      "2015-04-02 06:00:00            1            0            0  \n",
      "2015-07-16 06:00:00            1            0            0  \n",
      "2015-08-30 06:00:00            0            0            0  \n",
      "2015-10-14 06:00:00            0            0            1  \n",
      "2015-01-09 06:00:00            0            0            0  \n",
      "2015-02-23 06:00:00            0            0            0  \n",
      "2015-04-09 06:00:00            1            0            0  \n",
      "2015-06-23 06:00:00            0            1            0  \n",
      "2015-09-06 06:00:00            0            0            0  \n",
      "2015-10-06 06:00:00            0            1            0  \n",
      "2015-11-20 06:00:00            0            0            0  \n",
      "2015-01-24 06:00:00            0            0            0  \n",
      "...                          ...          ...          ...  \n",
      "2015-06-14 06:00:00            0            0            0  \n",
      "2015-06-29 06:00:00            0            0            0  \n",
      "2015-06-29 06:00:00            0            0            0  \n",
      "2015-07-29 06:00:00            0            0            1  \n",
      "2015-08-13 06:00:00            1            0            0  \n",
      "2015-08-28 06:00:00            0            0            0  \n",
      "2015-10-27 06:00:00            0            1            0  \n",
      "2015-11-26 06:00:00            1            0            0  \n",
      "2015-01-02 03:00:00            0            0            0  \n",
      "2015-01-18 06:00:00            0            0            0  \n",
      "2015-02-02 06:00:00            0            0            0  \n",
      "2015-02-17 06:00:00            0            1            0  \n",
      "2015-03-04 06:00:00            0            0            1  \n",
      "2015-03-19 06:00:00            1            0            0  \n",
      "2015-04-03 06:00:00            0            0            0  \n",
      "2015-04-18 06:00:00            0            0            0  \n",
      "2015-05-03 06:00:00            0            0            0  \n",
      "2015-05-18 06:00:00            0            0            0  \n",
      "2015-06-02 06:00:00            0            1            0  \n",
      "2015-07-02 06:00:00            1            0            0  \n",
      "2015-07-17 06:00:00            0            0            0  \n",
      "2015-08-01 06:00:00            0            0            0  \n",
      "2015-08-31 06:00:00            0            0            0  \n",
      "2015-10-15 06:00:00            1            0            0  \n",
      "2015-10-30 06:00:00            0            0            0  \n",
      "2015-11-29 06:00:00            0            0            0  \n",
      "2015-12-14 06:00:00            0            0            0  \n",
      "2015-02-12 06:00:00            1            0            0  \n",
      "2015-09-10 06:00:00            1            0            0  \n",
      "2015-12-09 06:00:00            0            0            1  \n",
      "\n",
      "[761 rows x 7 columns]\n"
     ]
    }
   ],
   "source": [
    "X = failures[[c for c in failures.columns if c.startswith('week')]] \n",
    "y = failures['failure']\n",
    "print(X)"
   ]
  },
  {
   "cell_type": "code",
   "execution_count": 284,
   "metadata": {},
   "outputs": [
    {
     "name": "stdout",
     "output_type": "stream",
     "text": [
      "2015-01-05 06:00:00    comp4\n",
      "2015-03-06 06:00:00    comp1\n",
      "2015-04-20 06:00:00    comp2\n",
      "2015-06-19 06:00:00    comp4\n",
      "2015-09-02 06:00:00    comp4\n",
      "2015-10-17 06:00:00    comp2\n",
      "2015-12-16 06:00:00    comp4\n",
      "2015-03-19 06:00:00    comp1\n",
      "2015-03-19 06:00:00    comp2\n",
      "2015-04-18 06:00:00    comp2\n",
      "2015-12-29 06:00:00    comp2\n",
      "2015-01-07 06:00:00    comp2\n",
      "2015-02-06 06:00:00    comp1\n",
      "2015-07-21 06:00:00    comp2\n",
      "2015-10-04 06:00:00    comp2\n",
      "2015-12-03 06:00:00    comp2\n",
      "2015-01-17 06:00:00    comp2\n",
      "2015-02-16 06:00:00    comp1\n",
      "2015-04-02 06:00:00    comp2\n",
      "2015-07-16 06:00:00    comp2\n",
      "2015-08-30 06:00:00    comp1\n",
      "2015-10-14 06:00:00    comp2\n",
      "2015-01-09 06:00:00    comp2\n",
      "2015-02-23 06:00:00    comp1\n",
      "2015-04-09 06:00:00    comp1\n",
      "2015-06-23 06:00:00    comp2\n",
      "2015-09-06 06:00:00    comp1\n",
      "2015-10-06 06:00:00    comp2\n",
      "2015-11-20 06:00:00    comp1\n",
      "2015-01-24 06:00:00    comp2\n",
      "                       ...  \n",
      "2015-06-14 06:00:00    comp2\n",
      "2015-06-29 06:00:00    comp1\n",
      "2015-06-29 06:00:00    comp4\n",
      "2015-07-29 06:00:00    comp3\n",
      "2015-08-13 06:00:00    comp1\n",
      "2015-08-28 06:00:00    comp2\n",
      "2015-10-27 06:00:00    comp2\n",
      "2015-11-26 06:00:00    comp3\n",
      "2015-01-02 03:00:00    comp3\n",
      "2015-01-18 06:00:00    comp4\n",
      "2015-02-02 06:00:00    comp1\n",
      "2015-02-17 06:00:00    comp2\n",
      "2015-03-04 06:00:00    comp3\n",
      "2015-03-19 06:00:00    comp4\n",
      "2015-04-03 06:00:00    comp2\n",
      "2015-04-18 06:00:00    comp3\n",
      "2015-05-03 06:00:00    comp2\n",
      "2015-05-18 06:00:00    comp1\n",
      "2015-06-02 06:00:00    comp4\n",
      "2015-07-02 06:00:00    comp2\n",
      "2015-07-17 06:00:00    comp3\n",
      "2015-08-01 06:00:00    comp2\n",
      "2015-08-31 06:00:00    comp3\n",
      "2015-10-15 06:00:00    comp2\n",
      "2015-10-30 06:00:00    comp4\n",
      "2015-11-29 06:00:00    comp3\n",
      "2015-12-14 06:00:00    comp4\n",
      "2015-02-12 06:00:00    comp1\n",
      "2015-09-10 06:00:00    comp1\n",
      "2015-12-09 06:00:00    comp2\n",
      "Name: failure, Length: 761, dtype: object\n"
     ]
    }
   ],
   "source": [
    "print(y)"
   ]
  },
  {
   "cell_type": "code",
   "execution_count": 285,
   "metadata": {},
   "outputs": [
    {
     "data": {
      "text/plain": [
       "0.3324572930354796"
      ]
     },
     "execution_count": 285,
     "metadata": {},
     "output_type": "execute_result"
    }
   ],
   "source": [
    "from sklearn.linear_model import LogisticRegression\n",
    "\n",
    "model = LogisticRegression(class_weight='balanced')\n",
    "\n",
    "model.fit(X= X, y = y)\n",
    "model.score(X,y)"
   ]
  },
  {
   "cell_type": "code",
   "execution_count": 286,
   "metadata": {},
   "outputs": [
    {
     "data": {
      "text/plain": [
       "0.3324572930354796"
      ]
     },
     "execution_count": 286,
     "metadata": {},
     "output_type": "execute_result"
    }
   ],
   "source": [
    "sum(model.predict(X) == failures['failure'])/len(failures)"
   ]
  },
  {
   "cell_type": "code",
   "execution_count": 287,
   "metadata": {},
   "outputs": [
    {
     "data": {
      "text/plain": [
       "array([[0.22257728, 0.24332948, 0.25933087, 0.27476237],\n",
       "       [0.2954588 , 0.17640511, 0.28503665, 0.24309943],\n",
       "       [0.22257728, 0.24332948, 0.25933087, 0.27476237],\n",
       "       ...,\n",
       "       [0.30525284, 0.27251119, 0.21176357, 0.2104724 ],\n",
       "       [0.30525284, 0.27251119, 0.21176357, 0.2104724 ],\n",
       "       [0.19134231, 0.30325393, 0.24126003, 0.26414373]])"
      ]
     },
     "execution_count": 287,
     "metadata": {},
     "output_type": "execute_result"
    }
   ],
   "source": [
    "model.predict_proba(X)"
   ]
  },
  {
   "cell_type": "code",
   "execution_count": 291,
   "metadata": {},
   "outputs": [
    {
     "data": {
      "text/plain": [
       "array([[ 0.18507848, -0.11601769, -0.05683493, -0.01715404,  0.20855438,\n",
       "         0.05371345, -0.25725713],\n",
       "       [-0.33726616, -0.02974746, -0.2158    ,  0.22088088,  0.09329484,\n",
       "         0.06705276,  0.20213975],\n",
       "       [ 0.15801248,  0.04705756,  0.12386708, -0.21328307, -0.14318744,\n",
       "         0.04116182, -0.01421116],\n",
       "       [-0.0058248 ,  0.09870759,  0.14876784,  0.00955624, -0.15866178,\n",
       "        -0.16192802,  0.06932853]])"
      ]
     },
     "execution_count": 291,
     "metadata": {},
     "output_type": "execute_result"
    }
   ],
   "source": [
    "model.coef_"
   ]
  },
  {
   "cell_type": "code",
   "execution_count": 292,
   "metadata": {},
   "outputs": [
    {
     "data": {
      "text/plain": [
       "0.3508541392904074"
      ]
     },
     "execution_count": 292,
     "metadata": {},
     "output_type": "execute_result"
    }
   ],
   "source": [
    "from sklearn.linear_model import LogisticRegression\n",
    "\n",
    "model = LogisticRegression()\n",
    "\n",
    "model.fit(X= X, y = y)\n",
    "model.score(X,y)"
   ]
  },
  {
   "cell_type": "code",
   "execution_count": 293,
   "metadata": {},
   "outputs": [
    {
     "data": {
      "text/plain": [
       "0.3508541392904074"
      ]
     },
     "execution_count": 293,
     "metadata": {},
     "output_type": "execute_result"
    }
   ],
   "source": [
    "sum(model.predict(X) == failures['failure'])/len(failures)"
   ]
  },
  {
   "cell_type": "code",
   "execution_count": 294,
   "metadata": {},
   "outputs": [
    {
     "data": {
      "text/plain": [
       "array([[0.22626764, 0.33361144, 0.17975899, 0.26036193],\n",
       "       [0.3099703 , 0.24866834, 0.20361556, 0.23774581],\n",
       "       [0.22626764, 0.33361144, 0.17975899, 0.26036193],\n",
       "       ...,\n",
       "       [0.30092491, 0.36270485, 0.14287101, 0.19349923],\n",
       "       [0.30092491, 0.36270485, 0.14287101, 0.19349923],\n",
       "       [0.18908212, 0.40487018, 0.1627232 , 0.24332451]])"
      ]
     },
     "execution_count": 294,
     "metadata": {},
     "output_type": "execute_result"
    }
   ],
   "source": [
    "model.predict_proba(X)"
   ]
  },
  {
   "cell_type": "code",
   "execution_count": 297,
   "metadata": {},
   "outputs": [
    {
     "data": {
      "text/plain": [
       "2"
      ]
     },
     "execution_count": 297,
     "metadata": {},
     "output_type": "execute_result"
    }
   ],
   "source": [
    "pd.to_datetime('12/15/2021').weekday()"
   ]
  },
  {
   "cell_type": "code",
   "execution_count": 296,
   "metadata": {},
   "outputs": [],
   "source": [
    "# Merge falures with PDM_errors\n",
    "inner_merged = pd.merge(failures, errors , on=['datetime', 'machineID'], how='inner')\n"
   ]
  },
  {
   "cell_type": "code",
   "execution_count": 298,
   "metadata": {},
   "outputs": [],
   "source": [
    "def findpriorerrorGOOD(target, df_errors):\n",
    "    #print( df_errors[df_errors[\"machineID\"] == target[\"machineID\"]])\n",
    "    #print(df_errors[df_errors[\"machineID\"]])\n",
    "    #print(target[\"machineID\"])\n",
    "    prior_error = dict() \n",
    "    machine_errors = df_errors[df_errors[\"machineID\"] == target[\"machineID\"]]\n",
    "    machine_errors = machine_errors.sort_values(\"datetime\")\n",
    "    machine_errors = machine_errors.reset_index()\n",
    "    for i,row in machine_errors.iterrows():\n",
    "        #print(i)\n",
    "        #print(target[\"datetime\"])\n",
    "        #print(machine_errors[\"datetime\"])\n",
    "        #print(target[\"datetime\"] >= machine_errors[\"datetime\"])\n",
    "        if i and target[\"datetime\"] >= row[\"datetime\"]:\n",
    "            prior_error = machine_errors.iloc[i-1].to_dict()\n",
    "    del prior_error[\"index\"]\n",
    "    print(prior_error)\n",
    "    return prior_error"
   ]
  },
  {
   "cell_type": "code",
   "execution_count": 299,
   "metadata": {},
   "outputs": [],
   "source": [
    "def findpriorerror(target, df_errors):\n",
    "\n",
    "    prior_error = dict() \n",
    "    machine_errors = df_errors[df_errors[\"machineID\"] == target[\"machineID\"]]\n",
    "    machine_errors = machine_errors.sort_values(\"datetime\")\n",
    "    machine_errors = machine_errors.reset_index()\n",
    "    for i,row in machine_errors.iterrows():\n",
    "        #print( row[\"datetime\"])       \n",
    "        if i and target[\"datetime\"] >= row[\"datetime\"].to_pydatetime():\n",
    "            \n",
    "            prior_error = machine_errors.iloc[i-1].to_dict()\n",
    "    \n",
    "    del prior_error[\"index\"]\n",
    "    print(prior_error)\n",
    "    return prior_error"
   ]
  },
  {
   "cell_type": "code",
   "execution_count": 300,
   "metadata": {},
   "outputs": [
    {
     "name": "stdout",
     "output_type": "stream",
     "text": [
      "1\n"
     ]
    }
   ],
   "source": [
    "test = errors.iloc[0].to_dict()\n",
    "test[\"machineID\"]\n",
    "print(test[\"machineID\"])"
   ]
  },
  {
   "cell_type": "code",
   "execution_count": 304,
   "metadata": {},
   "outputs": [
    {
     "ename": "AttributeError",
     "evalue": "'Timestamp' object has no attribute 'todate'",
     "output_type": "error",
     "traceback": [
      "\u001b[1;31m---------------------------------------------------------------------------\u001b[0m",
      "\u001b[1;31mAttributeError\u001b[0m                            Traceback (most recent call last)",
      "\u001b[1;32m<ipython-input-304-12ca92d209a8>\u001b[0m in \u001b[0;36m<module>\u001b[1;34m\u001b[0m\n\u001b[0;32m      1\u001b[0m \u001b[1;32mfor\u001b[0m \u001b[0mi\u001b[0m\u001b[1;33m,\u001b[0m\u001b[0mrow\u001b[0m \u001b[1;32min\u001b[0m \u001b[0mfailures\u001b[0m\u001b[1;33m.\u001b[0m\u001b[0miterrows\u001b[0m\u001b[1;33m(\u001b[0m\u001b[1;33m)\u001b[0m\u001b[1;33m:\u001b[0m\u001b[1;33m\u001b[0m\u001b[1;33m\u001b[0m\u001b[0m\n\u001b[1;32m----> 2\u001b[1;33m     \u001b[0mrow\u001b[0m\u001b[1;33m[\u001b[0m\u001b[1;34m\"datetime\"\u001b[0m\u001b[1;33m]\u001b[0m\u001b[1;33m=\u001b[0m \u001b[0mrow\u001b[0m\u001b[1;33m[\u001b[0m\u001b[1;34m\"datetime\"\u001b[0m\u001b[1;33m]\u001b[0m\u001b[1;33m.\u001b[0m\u001b[0mtodate\u001b[0m\u001b[1;33m\u001b[0m\u001b[1;33m\u001b[0m\u001b[0m\n\u001b[0m\u001b[0;32m      3\u001b[0m     \u001b[0mfindpriorerror\u001b[0m\u001b[1;33m(\u001b[0m\u001b[0mrow\u001b[0m\u001b[1;33m.\u001b[0m\u001b[0mto_dict\u001b[0m\u001b[1;33m(\u001b[0m\u001b[1;33m)\u001b[0m\u001b[1;33m,\u001b[0m\u001b[0mdf_errors\u001b[0m \u001b[1;33m=\u001b[0m \u001b[0merrors\u001b[0m\u001b[1;33m)\u001b[0m\u001b[1;33m\u001b[0m\u001b[1;33m\u001b[0m\u001b[0m\n\u001b[0;32m      4\u001b[0m     \u001b[1;32mbreak\u001b[0m\u001b[1;33m\u001b[0m\u001b[1;33m\u001b[0m\u001b[0m\n",
      "\u001b[1;31mAttributeError\u001b[0m: 'Timestamp' object has no attribute 'todate'"
     ]
    }
   ],
   "source": [
    "for i,row in failures.iterrows():\n",
    "    row[\"datetime\"]= row[\"datetime\"].todate\n",
    "    findpriorerror(row.to_dict(),df_errors = errors) \n",
    "    break"
   ]
  },
  {
   "cell_type": "code",
   "execution_count": 305,
   "metadata": {},
   "outputs": [
    {
     "name": "stdout",
     "output_type": "stream",
     "text": [
      "{'datetime': '2015-01-03 20:00:00', 'machineID': 1, 'errorID': 'error3'}\n",
      "               datetime  machineID errorID\n",
      "35  2015-01-12 14:00:00          2  error4\n",
      "36  2015-02-06 10:00:00          2  error4\n",
      "37  2015-02-11 11:00:00          2  error1\n",
      "38  2015-03-11 22:00:00          2  error2\n",
      "39  2015-03-18 06:00:00          2  error1\n",
      "40  2015-03-18 06:00:00          2  error2\n",
      "41  2015-03-18 06:00:00          2  error3\n",
      "42  2015-03-26 03:00:00          2  error2\n",
      "43  2015-03-27 17:00:00          2  error3\n",
      "44  2015-04-17 06:00:00          2  error2\n",
      "45  2015-04-17 06:00:00          2  error3\n",
      "46  2015-05-07 08:00:00          2  error2\n",
      "47  2015-05-13 10:00:00          2  error1\n",
      "48  2015-05-30 20:00:00          2  error5\n",
      "49  2015-06-18 14:00:00          2  error5\n",
      "50  2015-07-18 06:00:00          2  error4\n",
      "51  2015-07-20 10:00:00          2  error2\n",
      "52  2015-07-23 02:00:00          2  error1\n",
      "53  2015-08-03 10:00:00          2  error1\n",
      "54  2015-08-18 22:00:00          2  error5\n",
      "55  2015-08-23 10:00:00          2  error2\n",
      "56  2015-08-28 08:00:00          2  error2\n",
      "57  2015-09-16 13:00:00          2  error4\n",
      "58  2015-09-19 21:00:00          2  error4\n",
      "59  2015-09-23 19:00:00          2  error2\n",
      "60  2015-11-08 21:00:00          2  error3\n",
      "61  2015-12-28 06:00:00          2  error2\n",
      "62  2015-12-28 06:00:00          2  error3\n",
      "{'datetime': '2015-03-18 06:00:00', 'machineID': 2, 'errorID': 'error2'}\n"
     ]
    },
    {
     "data": {
      "text/plain": [
       "False"
      ]
     },
     "execution_count": 305,
     "metadata": {},
     "output_type": "execute_result"
    }
   ],
   "source": [
    ">>> target = dict(datetime = \"2015-01-05 06:00:00\", machineID = 1, failure= \"comp4\")\n",
    ">>> target1 = dict(datetime = \"2015-03-19 06:00:00\", machineID = 2, failure= \"comp1\")\n",
    ">>> prior_error = dict(datetime = \"2015-01-03 20:00:00\", machineID = 1, errorID = \"error3\")\n",
    ">>> print(prior_error)\n",
    ">>> findpriorerrorGOOD(target = target1, df_errors = errors) == prior_error\n"
   ]
  },
  {
   "cell_type": "code",
   "execution_count": 94,
   "metadata": {},
   "outputs": [
    {
     "data": {
      "text/plain": [
       "(0, 11)"
      ]
     },
     "execution_count": 94,
     "metadata": {},
     "output_type": "execute_result"
    }
   ],
   "source": [
    "inner_merged.shape"
   ]
  },
  {
   "cell_type": "code",
   "execution_count": 90,
   "metadata": {},
   "outputs": [
    {
     "data": {
      "text/html": [
       "<div>\n",
       "<style scoped>\n",
       "    .dataframe tbody tr th:only-of-type {\n",
       "        vertical-align: middle;\n",
       "    }\n",
       "\n",
       "    .dataframe tbody tr th {\n",
       "        vertical-align: top;\n",
       "    }\n",
       "\n",
       "    .dataframe thead th {\n",
       "        text-align: right;\n",
       "    }\n",
       "</style>\n",
       "<table border=\"1\" class=\"dataframe\">\n",
       "  <thead>\n",
       "    <tr style=\"text-align: right;\">\n",
       "      <th></th>\n",
       "      <th>machineID</th>\n",
       "      <th>failure</th>\n",
       "      <th>datetime</th>\n",
       "      <th>weekday_Fri</th>\n",
       "      <th>weekday_Mon</th>\n",
       "      <th>weekday_Sat</th>\n",
       "      <th>weekday_Sun</th>\n",
       "      <th>weekday_Thu</th>\n",
       "      <th>weekday_Tue</th>\n",
       "      <th>weekday_Wed</th>\n",
       "      <th>errorID</th>\n",
       "    </tr>\n",
       "  </thead>\n",
       "  <tbody>\n",
       "    <tr>\n",
       "      <th>0</th>\n",
       "      <td>1</td>\n",
       "      <td>comp4</td>\n",
       "      <td>2015-01-05 06:00:00</td>\n",
       "      <td>0</td>\n",
       "      <td>1</td>\n",
       "      <td>0</td>\n",
       "      <td>0</td>\n",
       "      <td>0</td>\n",
       "      <td>0</td>\n",
       "      <td>0</td>\n",
       "      <td>NaN</td>\n",
       "    </tr>\n",
       "    <tr>\n",
       "      <th>1</th>\n",
       "      <td>1</td>\n",
       "      <td>comp1</td>\n",
       "      <td>2015-03-06 06:00:00</td>\n",
       "      <td>1</td>\n",
       "      <td>0</td>\n",
       "      <td>0</td>\n",
       "      <td>0</td>\n",
       "      <td>0</td>\n",
       "      <td>0</td>\n",
       "      <td>0</td>\n",
       "      <td>NaN</td>\n",
       "    </tr>\n",
       "    <tr>\n",
       "      <th>2</th>\n",
       "      <td>1</td>\n",
       "      <td>comp2</td>\n",
       "      <td>2015-04-20 06:00:00</td>\n",
       "      <td>0</td>\n",
       "      <td>1</td>\n",
       "      <td>0</td>\n",
       "      <td>0</td>\n",
       "      <td>0</td>\n",
       "      <td>0</td>\n",
       "      <td>0</td>\n",
       "      <td>NaN</td>\n",
       "    </tr>\n",
       "    <tr>\n",
       "      <th>3</th>\n",
       "      <td>1</td>\n",
       "      <td>comp4</td>\n",
       "      <td>2015-06-19 06:00:00</td>\n",
       "      <td>1</td>\n",
       "      <td>0</td>\n",
       "      <td>0</td>\n",
       "      <td>0</td>\n",
       "      <td>0</td>\n",
       "      <td>0</td>\n",
       "      <td>0</td>\n",
       "      <td>NaN</td>\n",
       "    </tr>\n",
       "    <tr>\n",
       "      <th>4</th>\n",
       "      <td>1</td>\n",
       "      <td>comp4</td>\n",
       "      <td>2015-09-02 06:00:00</td>\n",
       "      <td>0</td>\n",
       "      <td>0</td>\n",
       "      <td>0</td>\n",
       "      <td>0</td>\n",
       "      <td>0</td>\n",
       "      <td>0</td>\n",
       "      <td>1</td>\n",
       "      <td>NaN</td>\n",
       "    </tr>\n",
       "    <tr>\n",
       "      <th>5</th>\n",
       "      <td>1</td>\n",
       "      <td>comp2</td>\n",
       "      <td>2015-10-17 06:00:00</td>\n",
       "      <td>0</td>\n",
       "      <td>0</td>\n",
       "      <td>1</td>\n",
       "      <td>0</td>\n",
       "      <td>0</td>\n",
       "      <td>0</td>\n",
       "      <td>0</td>\n",
       "      <td>NaN</td>\n",
       "    </tr>\n",
       "    <tr>\n",
       "      <th>6</th>\n",
       "      <td>1</td>\n",
       "      <td>comp4</td>\n",
       "      <td>2015-12-16 06:00:00</td>\n",
       "      <td>0</td>\n",
       "      <td>0</td>\n",
       "      <td>0</td>\n",
       "      <td>0</td>\n",
       "      <td>0</td>\n",
       "      <td>0</td>\n",
       "      <td>1</td>\n",
       "      <td>NaN</td>\n",
       "    </tr>\n",
       "    <tr>\n",
       "      <th>7</th>\n",
       "      <td>2</td>\n",
       "      <td>comp1</td>\n",
       "      <td>2015-03-19 06:00:00</td>\n",
       "      <td>0</td>\n",
       "      <td>0</td>\n",
       "      <td>0</td>\n",
       "      <td>0</td>\n",
       "      <td>1</td>\n",
       "      <td>0</td>\n",
       "      <td>0</td>\n",
       "      <td>NaN</td>\n",
       "    </tr>\n",
       "    <tr>\n",
       "      <th>8</th>\n",
       "      <td>2</td>\n",
       "      <td>comp2</td>\n",
       "      <td>2015-03-19 06:00:00</td>\n",
       "      <td>0</td>\n",
       "      <td>0</td>\n",
       "      <td>0</td>\n",
       "      <td>0</td>\n",
       "      <td>1</td>\n",
       "      <td>0</td>\n",
       "      <td>0</td>\n",
       "      <td>NaN</td>\n",
       "    </tr>\n",
       "    <tr>\n",
       "      <th>9</th>\n",
       "      <td>2</td>\n",
       "      <td>comp2</td>\n",
       "      <td>2015-04-18 06:00:00</td>\n",
       "      <td>0</td>\n",
       "      <td>0</td>\n",
       "      <td>1</td>\n",
       "      <td>0</td>\n",
       "      <td>0</td>\n",
       "      <td>0</td>\n",
       "      <td>0</td>\n",
       "      <td>NaN</td>\n",
       "    </tr>\n",
       "  </tbody>\n",
       "</table>\n",
       "</div>"
      ],
      "text/plain": [
       "   machineID failure             datetime  weekday_Fri  weekday_Mon  \\\n",
       "0          1   comp4  2015-01-05 06:00:00            0            1   \n",
       "1          1   comp1  2015-03-06 06:00:00            1            0   \n",
       "2          1   comp2  2015-04-20 06:00:00            0            1   \n",
       "3          1   comp4  2015-06-19 06:00:00            1            0   \n",
       "4          1   comp4  2015-09-02 06:00:00            0            0   \n",
       "5          1   comp2  2015-10-17 06:00:00            0            0   \n",
       "6          1   comp4  2015-12-16 06:00:00            0            0   \n",
       "7          2   comp1  2015-03-19 06:00:00            0            0   \n",
       "8          2   comp2  2015-03-19 06:00:00            0            0   \n",
       "9          2   comp2  2015-04-18 06:00:00            0            0   \n",
       "\n",
       "   weekday_Sat  weekday_Sun  weekday_Thu  weekday_Tue  weekday_Wed errorID  \n",
       "0            0            0            0            0            0     NaN  \n",
       "1            0            0            0            0            0     NaN  \n",
       "2            0            0            0            0            0     NaN  \n",
       "3            0            0            0            0            0     NaN  \n",
       "4            0            0            0            0            1     NaN  \n",
       "5            1            0            0            0            0     NaN  \n",
       "6            0            0            0            0            1     NaN  \n",
       "7            0            0            1            0            0     NaN  \n",
       "8            0            0            1            0            0     NaN  \n",
       "9            1            0            0            0            0     NaN  "
      ]
     },
     "execution_count": 90,
     "metadata": {},
     "output_type": "execute_result"
    }
   ],
   "source": [
    "inner_merged.head(10)"
   ]
  },
  {
   "cell_type": "code",
   "execution_count": 28,
   "metadata": {},
   "outputs": [
    {
     "name": "stdout",
     "output_type": "stream",
     "text": [
      "Total number of telemetry records: 876100\n",
      "             datetime  machineID        volt      rotate    pressure  \\\n",
      "0 2015-01-01 06:00:00          1  176.217853  418.504078  113.077935   \n",
      "1 2015-01-01 07:00:00          1  162.879223  402.747490   95.460525   \n",
      "2 2015-01-01 08:00:00          1  170.989902  527.349825   75.237905   \n",
      "3 2015-01-01 09:00:00          1  162.462833  346.149335  109.248561   \n",
      "4 2015-01-01 10:00:00          1  157.610021  435.376873  111.886648   \n",
      "\n",
      "   vibration  \n",
      "0  45.087686  \n",
      "1  43.413973  \n",
      "2  34.178847  \n",
      "3  41.122144  \n",
      "4  25.990511  \n"
     ]
    },
    {
     "data": {
      "text/html": [
       "<div>\n",
       "<style scoped>\n",
       "    .dataframe tbody tr th:only-of-type {\n",
       "        vertical-align: middle;\n",
       "    }\n",
       "\n",
       "    .dataframe tbody tr th {\n",
       "        vertical-align: top;\n",
       "    }\n",
       "\n",
       "    .dataframe thead th {\n",
       "        text-align: right;\n",
       "    }\n",
       "</style>\n",
       "<table border=\"1\" class=\"dataframe\">\n",
       "  <thead>\n",
       "    <tr style=\"text-align: right;\">\n",
       "      <th></th>\n",
       "      <th>machineID</th>\n",
       "      <th>volt</th>\n",
       "      <th>rotate</th>\n",
       "      <th>pressure</th>\n",
       "      <th>vibration</th>\n",
       "    </tr>\n",
       "  </thead>\n",
       "  <tbody>\n",
       "    <tr>\n",
       "      <th>count</th>\n",
       "      <td>876100.000000</td>\n",
       "      <td>876100.000000</td>\n",
       "      <td>876100.000000</td>\n",
       "      <td>876100.000000</td>\n",
       "      <td>876100.000000</td>\n",
       "    </tr>\n",
       "    <tr>\n",
       "      <th>mean</th>\n",
       "      <td>50.500000</td>\n",
       "      <td>170.777736</td>\n",
       "      <td>446.605119</td>\n",
       "      <td>100.858668</td>\n",
       "      <td>40.385007</td>\n",
       "    </tr>\n",
       "    <tr>\n",
       "      <th>std</th>\n",
       "      <td>28.866087</td>\n",
       "      <td>15.509114</td>\n",
       "      <td>52.673886</td>\n",
       "      <td>11.048679</td>\n",
       "      <td>5.370361</td>\n",
       "    </tr>\n",
       "    <tr>\n",
       "      <th>min</th>\n",
       "      <td>1.000000</td>\n",
       "      <td>97.333604</td>\n",
       "      <td>138.432075</td>\n",
       "      <td>51.237106</td>\n",
       "      <td>14.877054</td>\n",
       "    </tr>\n",
       "    <tr>\n",
       "      <th>25%</th>\n",
       "      <td>25.750000</td>\n",
       "      <td>160.304927</td>\n",
       "      <td>412.305714</td>\n",
       "      <td>93.498181</td>\n",
       "      <td>36.777299</td>\n",
       "    </tr>\n",
       "    <tr>\n",
       "      <th>50%</th>\n",
       "      <td>50.500000</td>\n",
       "      <td>170.607338</td>\n",
       "      <td>447.558150</td>\n",
       "      <td>100.425559</td>\n",
       "      <td>40.237247</td>\n",
       "    </tr>\n",
       "    <tr>\n",
       "      <th>75%</th>\n",
       "      <td>75.250000</td>\n",
       "      <td>181.004493</td>\n",
       "      <td>482.176600</td>\n",
       "      <td>107.555231</td>\n",
       "      <td>43.784938</td>\n",
       "    </tr>\n",
       "    <tr>\n",
       "      <th>max</th>\n",
       "      <td>100.000000</td>\n",
       "      <td>255.124717</td>\n",
       "      <td>695.020984</td>\n",
       "      <td>185.951998</td>\n",
       "      <td>76.791072</td>\n",
       "    </tr>\n",
       "  </tbody>\n",
       "</table>\n",
       "</div>"
      ],
      "text/plain": [
       "           machineID           volt         rotate       pressure  \\\n",
       "count  876100.000000  876100.000000  876100.000000  876100.000000   \n",
       "mean       50.500000     170.777736     446.605119     100.858668   \n",
       "std        28.866087      15.509114      52.673886      11.048679   \n",
       "min         1.000000      97.333604     138.432075      51.237106   \n",
       "25%        25.750000     160.304927     412.305714      93.498181   \n",
       "50%        50.500000     170.607338     447.558150     100.425559   \n",
       "75%        75.250000     181.004493     482.176600     107.555231   \n",
       "max       100.000000     255.124717     695.020984     185.951998   \n",
       "\n",
       "           vibration  \n",
       "count  876100.000000  \n",
       "mean       40.385007  \n",
       "std         5.370361  \n",
       "min        14.877054  \n",
       "25%        36.777299  \n",
       "50%        40.237247  \n",
       "75%        43.784938  \n",
       "max        76.791072  "
      ]
     },
     "execution_count": 28,
     "metadata": {},
     "output_type": "execute_result"
    }
   ],
   "source": [
    "# format datetime field which comes in as string\n",
    "telemetry['datetime'] = pd.to_datetime(telemetry['datetime'], format=\"%Y-%m-%d %H:%M:%S\")\n",
    "\n",
    "print(\"Total number of telemetry records: %d\" % len(telemetry.index))\n",
    "print(telemetry.head())\n",
    "telemetry.describe()"
   ]
  },
  {
   "cell_type": "code",
   "execution_count": 29,
   "metadata": {},
   "outputs": [
    {
     "name": "stderr",
     "output_type": "stream",
     "text": [
      "C:\\Users\\Michael\\anaconda3\\envs\\sb\\lib\\site-packages\\pandas\\plotting\\_compat.py:57: MatplotlibDeprecationWarning: \n",
      "The compare_versions function was deprecated in Matplotlib 3.2 and will be removed two minor releases later.\n",
      "  return matplotlib.compare_versions('2.0.0', matplotlib.__version__)\n"
     ]
    },
    {
     "data": {
      "text/plain": [
       "Text(0.5, 0, 'Date')"
      ]
     },
     "execution_count": 29,
     "metadata": {},
     "output_type": "execute_result"
    },
    {
     "data": {
      "image/png": "[encoded data removed]",
      "text/plain": [
       "<Figure size 1440x576 with 1 Axes>"
      ]
     },
     "metadata": {},
     "output_type": "display_data"
    }
   ],
   "source": [
    "%matplotlib inline\n",
    "\n",
    "\n",
    "plot_df = telemetry.loc[(telemetry['machineID'] == 1) & \n",
    "                        (telemetry['datetime'] > pd.to_datetime('2015-01-01')) & \n",
    "                        (telemetry['datetime'] <pd.to_datetime('2015-02-01')),\n",
    "                        ['datetime','volt']]\n",
    "sns.set_style(\"darkgrid\")\n",
    "plt.figure(figsize=(20, 8))\n",
    "plt.plot(plot_df['datetime'], plot_df['volt'])\n",
    "plt.ylabel('voltage')\n",
    "\n",
    "# make x-axis ticks legible\n",
    "adf = plt.gca().get_xaxis().get_major_formatter()\n",
    "adf.scaled[1.0] = '%m-%d-%Y'\n",
    "plt.xlabel('Date')"
   ]
  },
  {
   "cell_type": "code",
   "execution_count": 30,
   "metadata": {},
   "outputs": [
    {
     "name": "stdout",
     "output_type": "stream",
     "text": [
      "Total Number of error records: 3919\n"
     ]
    },
    {
     "data": {
      "text/html": [
       "<div>\n",
       "<style scoped>\n",
       "    .dataframe tbody tr th:only-of-type {\n",
       "        vertical-align: middle;\n",
       "    }\n",
       "\n",
       "    .dataframe tbody tr th {\n",
       "        vertical-align: top;\n",
       "    }\n",
       "\n",
       "    .dataframe thead th {\n",
       "        text-align: right;\n",
       "    }\n",
       "</style>\n",
       "<table border=\"1\" class=\"dataframe\">\n",
       "  <thead>\n",
       "    <tr style=\"text-align: right;\">\n",
       "      <th></th>\n",
       "      <th>datetime</th>\n",
       "      <th>machineID</th>\n",
       "      <th>errorID</th>\n",
       "    </tr>\n",
       "  </thead>\n",
       "  <tbody>\n",
       "    <tr>\n",
       "      <th>0</th>\n",
       "      <td>2015-01-03 07:00:00</td>\n",
       "      <td>1</td>\n",
       "      <td>error1</td>\n",
       "    </tr>\n",
       "    <tr>\n",
       "      <th>1</th>\n",
       "      <td>2015-01-03 20:00:00</td>\n",
       "      <td>1</td>\n",
       "      <td>error3</td>\n",
       "    </tr>\n",
       "    <tr>\n",
       "      <th>2</th>\n",
       "      <td>2015-01-04 06:00:00</td>\n",
       "      <td>1</td>\n",
       "      <td>error5</td>\n",
       "    </tr>\n",
       "    <tr>\n",
       "      <th>3</th>\n",
       "      <td>2015-01-10 15:00:00</td>\n",
       "      <td>1</td>\n",
       "      <td>error4</td>\n",
       "    </tr>\n",
       "    <tr>\n",
       "      <th>4</th>\n",
       "      <td>2015-01-22 10:00:00</td>\n",
       "      <td>1</td>\n",
       "      <td>error4</td>\n",
       "    </tr>\n",
       "  </tbody>\n",
       "</table>\n",
       "</div>"
      ],
      "text/plain": [
       "             datetime  machineID errorID\n",
       "0 2015-01-03 07:00:00          1  error1\n",
       "1 2015-01-03 20:00:00          1  error3\n",
       "2 2015-01-04 06:00:00          1  error5\n",
       "3 2015-01-10 15:00:00          1  error4\n",
       "4 2015-01-22 10:00:00          1  error4"
      ]
     },
     "execution_count": 30,
     "metadata": {},
     "output_type": "execute_result"
    }
   ],
   "source": [
    "# format of datetime field which comes in as string\n",
    "errors['datetime'] = pd.to_datetime(errors['datetime'],format = '%Y-%m-%d %H:%M:%S')\n",
    "errors['errorID'] = errors['errorID'].astype('category')\n",
    "print(\"Total Number of error records: %d\" %len(errors.index))\n",
    "errors.head()"
   ]
  },
  {
   "cell_type": "code",
   "execution_count": 5,
   "metadata": {},
   "outputs": [
    {
     "data": {
      "text/plain": [
       "error1    1010\n",
       "error2     988\n",
       "error3     838\n",
       "error4     727\n",
       "error5     356\n",
       "Name: errorID, dtype: int64"
      ]
     },
     "execution_count": 5,
     "metadata": {},
     "output_type": "execute_result"
    },
    {
     "data": {
      "image/png": "[encoded data removed]",
      "text/plain": [
       "<Figure size 1440x576 with 1 Axes>"
      ]
     },
     "metadata": {},
     "output_type": "display_data"
    }
   ],
   "source": [
    "sns.set_style(\"darkgrid\")\n",
    "plt.figure(figsize=(20, 8))\n",
    "errors['errorID'].value_counts().plot(kind='bar')\n",
    "plt.ylabel('Count')\n",
    "errors['errorID'].value_counts()"
   ]
  },
  {
   "cell_type": "code",
   "execution_count": 6,
   "metadata": {},
   "outputs": [
    {
     "name": "stdout",
     "output_type": "stream",
     "text": [
      "Total Number of maintenance Records: 3286\n"
     ]
    },
    {
     "data": {
      "text/html": [
       "<div>\n",
       "<style scoped>\n",
       "    .dataframe tbody tr th:only-of-type {\n",
       "        vertical-align: middle;\n",
       "    }\n",
       "\n",
       "    .dataframe tbody tr th {\n",
       "        vertical-align: top;\n",
       "    }\n",
       "\n",
       "    .dataframe thead th {\n",
       "        text-align: right;\n",
       "    }\n",
       "</style>\n",
       "<table border=\"1\" class=\"dataframe\">\n",
       "  <thead>\n",
       "    <tr style=\"text-align: right;\">\n",
       "      <th></th>\n",
       "      <th>datetime</th>\n",
       "      <th>machineID</th>\n",
       "      <th>comp</th>\n",
       "    </tr>\n",
       "  </thead>\n",
       "  <tbody>\n",
       "    <tr>\n",
       "      <th>0</th>\n",
       "      <td>2014-06-01 06:00:00</td>\n",
       "      <td>1</td>\n",
       "      <td>comp2</td>\n",
       "    </tr>\n",
       "    <tr>\n",
       "      <th>1</th>\n",
       "      <td>2014-07-16 06:00:00</td>\n",
       "      <td>1</td>\n",
       "      <td>comp4</td>\n",
       "    </tr>\n",
       "    <tr>\n",
       "      <th>2</th>\n",
       "      <td>2014-07-31 06:00:00</td>\n",
       "      <td>1</td>\n",
       "      <td>comp3</td>\n",
       "    </tr>\n",
       "    <tr>\n",
       "      <th>3</th>\n",
       "      <td>2014-12-13 06:00:00</td>\n",
       "      <td>1</td>\n",
       "      <td>comp1</td>\n",
       "    </tr>\n",
       "    <tr>\n",
       "      <th>4</th>\n",
       "      <td>2015-01-05 06:00:00</td>\n",
       "      <td>1</td>\n",
       "      <td>comp4</td>\n",
       "    </tr>\n",
       "  </tbody>\n",
       "</table>\n",
       "</div>"
      ],
      "text/plain": [
       "             datetime  machineID   comp\n",
       "0 2014-06-01 06:00:00          1  comp2\n",
       "1 2014-07-16 06:00:00          1  comp4\n",
       "2 2014-07-31 06:00:00          1  comp3\n",
       "3 2014-12-13 06:00:00          1  comp1\n",
       "4 2015-01-05 06:00:00          1  comp4"
      ]
     },
     "execution_count": 6,
     "metadata": {},
     "output_type": "execute_result"
    }
   ],
   "source": [
    "maint['datetime'] = pd.to_datetime(maint['datetime'], format='%Y-%m-%d %H:%M:%S')\n",
    "maint['comp'] = maint['comp'].astype('category')\n",
    "print(\"Total Number of maintenance Records: %d\" %len(maint.index))\n",
    "maint.head()"
   ]
  },
  {
   "cell_type": "code",
   "execution_count": 6,
   "metadata": {},
   "outputs": [
    {
     "data": {
      "text/plain": [
       "comp2    863\n",
       "comp4    811\n",
       "comp3    808\n",
       "comp1    804\n",
       "Name: comp, dtype: int64"
      ]
     },
     "execution_count": 6,
     "metadata": {},
     "output_type": "execute_result"
    },
    {
     "data": {
      "image/png": "[encoded data removed]",
      "text/plain": [
       "<Figure size 720x288 with 1 Axes>"
      ]
     },
     "metadata": {},
     "output_type": "display_data"
    }
   ],
   "source": [
    "sns.set_style(\"darkgrid\")\n",
    "plt.figure(figsize=(10, 4))\n",
    "maint['comp'].value_counts().plot(kind='bar')\n",
    "plt.ylabel('Count')\n",
    "maint['comp'].value_counts()"
   ]
  },
  {
   "cell_type": "code",
   "execution_count": 7,
   "metadata": {},
   "outputs": [
    {
     "data": {
      "text/plain": [
       "comp2    863\n",
       "comp4    811\n",
       "comp3    808\n",
       "comp1    804\n",
       "Name: comp, dtype: int64"
      ]
     },
     "execution_count": 7,
     "metadata": {},
     "output_type": "execute_result"
    },
    {
     "data": {
      "image/png": "[encoded data removed]",
      "text/plain": [
       "<Figure size 720x288 with 1 Axes>"
      ]
     },
     "metadata": {},
     "output_type": "display_data"
    }
   ],
   "source": [
    "machines['model'] = machines['model'].astype('category')\n",
    "\n",
    "print(\"Total number of machines: %d\" % len(machines.index))\n",
    "machines.head()"
   ]
  },
  {
   "cell_type": "code",
   "execution_count": null,
   "metadata": {},
   "outputs": [],
   "source": [
    "sns.set_style(\"darkgrid\")\n",
    "plt.figure(figsize=(15, 6))\n",
    "_, bins, _ = plt.hist([machines.loc[machines['model'] == 'model1', 'age'],\n",
    "                       machines.loc[machines['model'] == 'model2', 'age'],\n",
    "                       machines.loc[machines['model'] == 'model3', 'age'],\n",
    "                       machines.loc[machines['model'] == 'model4', 'age']],\n",
    "                       20, stacked=True, label=['model1', 'model2', 'model3', 'model4'])\n",
    "plt.xlabel('Age (yrs)')\n",
    "plt.ylabel('Count')\n",
    "plt.legend()"
   ]
  },
  {
   "cell_type": "code",
   "execution_count": 6,
   "metadata": {},
   "outputs": [
    {
     "data": {
      "text/plain": [
       "datetime      object\n",
       "machineID      int64\n",
       "volt         float64\n",
       "rotate       float64\n",
       "pressure     float64\n",
       "vibration    float64\n",
       "dtype: object"
      ]
     },
     "execution_count": 6,
     "metadata": {},
     "output_type": "execute_result"
    }
   ],
   "source": [
    "telemetry.dtypes"
   ]
  },
  {
   "cell_type": "code",
   "execution_count": 31,
   "metadata": {},
   "outputs": [
    {
     "data": {
      "text/plain": [
       "<seaborn.axisgrid.PairGrid at 0x198815d8f28>"
      ]
     },
     "execution_count": 31,
     "metadata": {},
     "output_type": "execute_result"
    },
    {
     "data": {
      "image/png": "[encoded data removed]",
      "text/plain": [
       "<Figure size 1440x1440 with 72 Axes>"
      ]
     },
     "metadata": {},
     "output_type": "display_data"
    }
   ],
   "source": [
    "sns.pairplot(failures)"
   ]
  },
  {
   "cell_type": "code",
   "execution_count": 32,
   "metadata": {},
   "outputs": [
    {
     "data": {
      "text/plain": [
       "<AxesSubplot:>"
      ]
     },
     "execution_count": 32,
     "metadata": {},
     "output_type": "execute_result"
    },
    {
     "data": {
      "image/png": "[encoded data removed]",
      "text/plain": [
       "<Figure size 432x288 with 2 Axes>"
      ]
     },
     "metadata": {},
     "output_type": "display_data"
    }
   ],
   "source": [
    "sns.heatmap(failures.corr(), annot=True, fmt='.2f', linewidths=2)"
   ]
  }
 ],
 "metadata": {
  "interpreter": {
   "hash": "9039cb9dba6d376c78688aec135b3c4ab975872f2424ba63a6c8a88dd10bbb0e"
  },
  "kernelspec": {
   "display_name": "Python 3.6.13 64-bit ('sb': conda)",
   "language": "python",
   "name": "python3"
  },
  "language_info": {
   "codemirror_mode": {
    "name": "ipython",
    "version": 3
   },
   "file_extension": ".py",
   "mimetype": "text/x-python",
   "name": "python",
   "nbconvert_exporter": "python",
   "pygments_lexer": "ipython3",
   "version": "3.6.13"
  },
  "orig_nbformat": 4
 },
 "nbformat": 4,
 "nbformat_minor": 2
}
